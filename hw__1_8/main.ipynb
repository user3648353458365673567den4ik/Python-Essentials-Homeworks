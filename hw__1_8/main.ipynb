{
 "cells": [
  {
   "cell_type": "code",
   "execution_count": 36,
   "id": "initial_id",
   "metadata": {
    "collapsed": true,
    "ExecuteTime": {
     "end_time": "2023-12-25T17:27:20.295011Z",
     "start_time": "2023-12-25T17:27:17.189064600Z"
    }
   },
   "outputs": [],
   "source": [
    "import sqlite3\n",
    "import random\n",
    "from faker import Faker\n",
    "import matplotlib.pyplot as plt"
   ]
  },
  {
   "cell_type": "code",
   "execution_count": 13,
   "outputs": [],
   "source": [
    "faker = Faker('ru-RU')"
   ],
   "metadata": {
    "collapsed": false,
    "ExecuteTime": {
     "end_time": "2023-12-25T17:01:26.989119100Z",
     "start_time": "2023-12-25T17:01:26.794895Z"
    }
   },
   "id": "904bea365338e1ff"
  },
  {
   "cell_type": "code",
   "execution_count": 19,
   "id": "45f763c739b88761",
   "metadata": {
    "collapsed": false,
    "ExecuteTime": {
     "end_time": "2023-12-25T17:09:46.116108600Z",
     "start_time": "2023-12-25T17:09:46.107094900Z"
    }
   },
   "outputs": [],
   "source": [
    "# tables dictionary structure: \n",
    "# {\n",
    "#   \"table_name\": [(\"field\", \"data type, params\")]\n",
    "# }\n",
    "\n",
    "\n",
    "class Database:\n",
    "    def __init__(self, name: str, tables: dict):\n",
    "        self.conn = sqlite3.connect(f'{name}.db')\n",
    "        self.cursor = self.conn.cursor()\n",
    "\n",
    "        self.cursor.execute(\"PRAGMA foreign_keys = ON\")\n",
    "        self.conn.commit()\n",
    "        \n",
    "        \n",
    "        for table_name, params in tables.items():\n",
    "            self.create_table(table_name, params)\n",
    "\n",
    "\n",
    "    def create_table(self, table_name: str, params: list) -> bool:\n",
    "        fields_string = \"\"\n",
    "        \n",
    "        for field, param in params:\n",
    "            fields_string += f\"{field} {param},\"\n",
    "        \n",
    "        if fields_string == \"\":\n",
    "            return False\n",
    "        \n",
    "        fields_string = fields_string[:-1]\n",
    "        \n",
    "        try:\n",
    "            self.cursor.execute(f\"CREATE TABLE IF NOT EXISTS {table_name} ({fields_string})\")\n",
    "            self.conn.commit()\n",
    "            return True\n",
    "        except Exception as e:\n",
    "            print(\"Database (create_table) error:\", e)\n",
    "            return False\n",
    "        \n",
    "    \n",
    "    def execute(self, sql):\n",
    "        try:\n",
    "            response = self.cursor.execute(sql)\n",
    "            self.conn.commit()\n",
    "            \n",
    "            return response\n",
    "        except Exception as e:\n",
    "            print(\"Error in sql executing...\")\n",
    "            raise e\n",
    "    \n",
    "        \n",
    "    def __del__(self):\n",
    "        self.conn.close()\n",
    "        \n",
    "            \n",
    "database = Database(\"University\", {\n",
    "    \"Students\": [\n",
    "        (\"id\", \"INTEGER PRIMARY KEY\"),\n",
    "        (\"name\", \"VARCHAR NOT NULL\"),\n",
    "        (\"age\", \"INTEGER NOT NULL\"),\n",
    "        (\"faculty\", \"VARCHAR NOT NULL\")\n",
    "    ],\n",
    "    \"Grades\": [\n",
    "        (\"id\", \"INTEGER PRIMARY KEY\"),\n",
    "        (\"student_id\", \"INTEGER NOT NULL\"),\n",
    "        (\"subject\", \"VARCHAR NOT NULL\"),\n",
    "        (\"grade\", \"INTEGER NOT NULL\"),\n",
    "        (\"FOREIGN KEY(student_id)\", \"REFERENCES Students(id)\")\n",
    "    ]\n",
    "})      "
   ]
  },
  {
   "cell_type": "code",
   "execution_count": 32,
   "id": "d0f5b4b2cdf9f783",
   "metadata": {
    "collapsed": false,
    "ExecuteTime": {
     "end_time": "2023-12-25T17:24:13.121220Z",
     "start_time": "2023-12-25T17:24:13.117220200Z"
    }
   },
   "outputs": [],
   "source": [
    "def add_students_and_grades(count: int):\n",
    "    if not isinstance(count, int) or count <= 0:\n",
    "        print(\"Incorrect count of people\")\n",
    "        return\n",
    "        \n",
    "    for i in range(count):\n",
    "        name = faker.name()\n",
    "        age = random.randint(7, 18)\n",
    "        faculty = random.choice(['Maths&Physics', 'Biology&Science', 'Russian&Literature'])\n",
    "        database.execute(f\"INSERT INTO Students (name, age, faculty) VALUES('{name}', {age}, '{faculty}')\")\n",
    "        \n",
    "    all_ids = database.execute(\"SELECT id FROM Students\").fetchall()\n",
    "    \n",
    "    for id_tuple in all_ids:\n",
    "        id = int(id_tuple[0])\n",
    "        student = database.execute(f\"SELECT * FROM Students WHERE id = {id}\").fetchone()\n",
    "        \n",
    "        subject = random.choice(student[3].split(\"&\"))\n",
    "        grade = random.randint(2, 5)\n",
    "        \n",
    "        database.execute(f\"INSERT INTO Grades (student_id, subject, grade) VALUES({student[0]}, '{subject}', {grade})\")\n",
    "    \n",
    "# add_students_and_grades(100)"
   ]
  },
  {
   "cell_type": "code",
   "execution_count": 35,
   "outputs": [
    {
     "name": "stdout",
     "output_type": "stream",
     "text": [
      "Средняя оценка по математике: 3.5\n"
     ]
    }
   ],
   "source": [
    "middle_maths_grade = database.execute(\"SELECT AVG(grade) FROM Grades WHERE subject = 'Maths'\").fetchone()[0]\n",
    "print(\"Средняя оценка по математике:\", middle_maths_grade)"
   ],
   "metadata": {
    "collapsed": false,
    "ExecuteTime": {
     "end_time": "2023-12-25T17:25:52.123297200Z",
     "start_time": "2023-12-25T17:25:52.085148300Z"
    }
   },
   "id": "25b6ff7fd070b665"
  },
  {
   "cell_type": "code",
   "execution_count": 68,
   "outputs": [
    {
     "data": {
      "text/plain": "<Figure size 640x480 with 1 Axes>",
      "image/png": "[encoded data removed]"
     },
     "metadata": {},
     "output_type": "display_data"
    }
   ],
   "source": [
    "# дополнение лично от меня\n",
    "\n",
    "def get_grade_graphic(subject: str):\n",
    "    subject = subject.capitalize()\n",
    "    \n",
    "    try:\n",
    "        data = database.execute(f\"SELECT * FROM Grades WHERE subject = '{subject}'\").fetchall()\n",
    "        if not data:\n",
    "            all_data = database.execute(\"SELECT subject FROM Grades\").fetchall()\n",
    "            valid_subjects_arr = list(set(all_data))\n",
    "            valid_subjects = \"\"\n",
    "            for i in valid_subjects_arr:\n",
    "                if i[0] != valid_subjects_arr[-1][0]:\n",
    "                    valid_subjects += i[0] + \", \"\n",
    "                else:\n",
    "                    valid_subjects += i[0] + \".\"\n",
    "            print(\"Предмет не найден. Доступные предметы:\", valid_subjects)\n",
    "            return\n",
    "    except Exception as e:\n",
    "        print(\"Что-то пошло не так при поиске вашего предмета.\\n\", e)\n",
    "        return \n",
    "    \n",
    "    plt.scatter([i for i in range(len(data))], [grade[3] for grade in data])\n",
    "    \n",
    "get_grade_graphic(\"Russian\")"
   ],
   "metadata": {
    "collapsed": false,
    "ExecuteTime": {
     "end_time": "2023-12-25T17:46:13.053311600Z",
     "start_time": "2023-12-25T17:46:12.760904600Z"
    }
   },
   "id": "cd879ab6144ea034"
  },
  {
   "cell_type": "code",
   "execution_count": null,
   "outputs": [],
   "source": [],
   "metadata": {
    "collapsed": false
   },
   "id": "93998fcdde34d21d"
  }
 ],
 "metadata": {
  "kernelspec": {
   "display_name": "Python 3 (ipykernel)",
   "language": "python",
   "name": "python3"
  },
  "language_info": {
   "codemirror_mode": {
    "name": "ipython",
    "version": 3
   },
   "file_extension": ".py",
   "mimetype": "text/x-python",
   "name": "python",
   "nbconvert_exporter": "python",
   "pygments_lexer": "ipython3",
   "version": "3.11.4"
  }
 },
 "nbformat": 4,
 "nbformat_minor": 5
}
