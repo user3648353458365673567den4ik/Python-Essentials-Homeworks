{
 "cells": [
  {
   "cell_type": "code",
   "execution_count": 1,
   "id": "initial_id",
   "metadata": {
    "collapsed": true,
    "ExecuteTime": {
     "end_time": "2023-12-20T12:37:42.861762Z",
     "start_time": "2023-12-20T12:37:39.873841400Z"
    }
   },
   "outputs": [],
   "source": [
    "import numpy as np\n",
    "import asyncio\n",
    "import threading\n",
    "import nest_asyncio"
   ]
  },
  {
   "cell_type": "code",
   "execution_count": 2,
   "outputs": [],
   "source": [
    "nest_asyncio.apply()\n",
    "array = np.array([np.random.randint(0, 101) for _ in range(100000)])\n",
    "ARRAY_PART_COUNT = 10"
   ],
   "metadata": {
    "collapsed": false,
    "ExecuteTime": {
     "end_time": "2023-12-20T12:37:42.863765900Z",
     "start_time": "2023-12-20T12:37:42.745753500Z"
    }
   },
   "id": "b84d8b0d839bf153"
  },
  {
   "cell_type": "code",
   "execution_count": 3,
   "outputs": [],
   "source": [
    "splited_arrays = np.array_split(array, ARRAY_PART_COUNT)\n",
    "summary = 0"
   ],
   "metadata": {
    "collapsed": false,
    "ExecuteTime": {
     "end_time": "2023-12-20T12:37:42.863765900Z",
     "start_time": "2023-12-20T12:37:42.746754600Z"
    }
   },
   "id": "35b65effff2d4d07"
  },
  {
   "cell_type": "code",
   "execution_count": 4,
   "outputs": [],
   "source": [
    "def calculate(arr: list):\n",
    "    global summary\n",
    "\n",
    "    for i in arr:\n",
    "        summary += i\n",
    "\n",
    "async def run_thread(arr: list):\n",
    "    th = threading.Thread(target=calculate, args=(arr,))\n",
    "    th.start()\n",
    "    th.join()"
   ],
   "metadata": {
    "collapsed": false,
    "ExecuteTime": {
     "end_time": "2023-12-20T12:37:42.864764400Z",
     "start_time": "2023-12-20T12:37:42.747754500Z"
    }
   },
   "id": "4e7707e0c0f6e46b"
  },
  {
   "cell_type": "code",
   "execution_count": 5,
   "outputs": [],
   "source": [
    "async def main():\n",
    "    async with asyncio.TaskGroup() as tg:\n",
    "        tasks = [tg.create_task(run_thread(splited_arrays[i])) for i in range(len(splited_arrays))]"
   ],
   "metadata": {
    "collapsed": false,
    "ExecuteTime": {
     "end_time": "2023-12-20T12:37:42.865764500Z",
     "start_time": "2023-12-20T12:37:42.747754500Z"
    }
   },
   "id": "b5d37cbbf4c68690"
  },
  {
   "cell_type": "code",
   "execution_count": 6,
   "outputs": [],
   "source": [
    "if __name__ == \"__main__\":\n",
    "    asyncio.run(main())"
   ],
   "metadata": {
    "collapsed": false,
    "ExecuteTime": {
     "end_time": "2023-12-20T12:37:42.867767500Z",
     "start_time": "2023-12-20T12:37:42.748755Z"
    }
   },
   "id": "f63ff6275f2c1114"
  },
  {
   "cell_type": "code",
   "execution_count": 7,
   "outputs": [
    {
     "name": "stdout",
     "output_type": "stream",
     "text": [
      "Результат асинхронной и многопоточной работы: 4997232\n",
      "Результат через встроенные синхронные функции Python: 4997232\n"
     ]
    }
   ],
   "source": [
    "print(f\"Результат асинхронной и многопоточной работы: {summary}\")\n",
    "\n",
    "def sum_arrs():\n",
    "    for i in splited_arrays:\n",
    "        yield sum(i)\n",
    "        \n",
    "print(f\"Результат через встроенные синхронные функции Python: {sum(sum_arrs())}\")"
   ],
   "metadata": {
    "collapsed": false,
    "ExecuteTime": {
     "end_time": "2023-12-20T12:37:42.868768800Z",
     "start_time": "2023-12-20T12:37:42.748755Z"
    }
   },
   "id": "8b02b4355bd69d46"
  },
  {
   "cell_type": "code",
   "execution_count": 7,
   "outputs": [],
   "source": [],
   "metadata": {
    "collapsed": false,
    "ExecuteTime": {
     "end_time": "2023-12-20T12:37:42.870764800Z",
     "start_time": "2023-12-20T12:37:42.749754600Z"
    }
   },
   "id": "b6408489a7bbb5fc"
  }
 ],
 "metadata": {
  "kernelspec": {
   "display_name": "Python 3",
   "language": "python",
   "name": "python3"
  },
  "language_info": {
   "codemirror_mode": {
    "name": "ipython",
    "version": 2
   },
   "file_extension": ".py",
   "mimetype": "text/x-python",
   "name": "python",
   "nbconvert_exporter": "python",
   "pygments_lexer": "ipython2",
   "version": "2.7.6"
  }
 },
 "nbformat": 4,
 "nbformat_minor": 5
}
