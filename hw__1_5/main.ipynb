{
 "cells": [
  {
   "cell_type": "code",
   "execution_count": 166,
   "id": "initial_id",
   "metadata": {
    "collapsed": true,
    "ExecuteTime": {
     "end_time": "2023-12-20T17:04:24.453979900Z",
     "start_time": "2023-12-20T17:04:24.434965900Z"
    }
   },
   "outputs": [],
   "source": [
    "from faker import Faker\n",
    "import random"
   ]
  },
  {
   "cell_type": "code",
   "execution_count": 167,
   "outputs": [],
   "source": [
    "faker = Faker('ru_RU')"
   ],
   "metadata": {
    "collapsed": false,
    "ExecuteTime": {
     "end_time": "2023-12-20T17:04:28.051491200Z",
     "start_time": "2023-12-20T17:04:26.638537500Z"
    }
   },
   "id": "4570af1ea3bdf0ff"
  },
  {
   "cell_type": "code",
   "execution_count": 168,
   "outputs": [],
   "source": [
    "class MetaClass:\n",
    "    def to_json(self):\n",
    "        cls_attrs = list(filter(lambda x: x not in [*dir(type(\"\", (), {})), 'to_json'], dir(self)))\n",
    "        cls_attrs_dict = {}\n",
    "\n",
    "        for attr in cls_attrs:\n",
    "            value = getattr(self, attr)\n",
    "\n",
    "            if attr not in cls_attrs_dict:\n",
    "                cls_attrs_dict[attr] = value\n",
    "\n",
    "        return cls_attrs_dict\n",
    "\n",
    "\n",
    "class Company(MetaClass):\n",
    "    def __init__(self, name, office_address):\n",
    "        self.name = name\n",
    "        self.office_address = office_address\n",
    "        self.__dict__ = self.to_json()\n",
    "        super().__init__()\n",
    "\n",
    "    def __str__(self):\n",
    "        return f\"{self.name} ({self.office_address})\"\n",
    "\n",
    "    def __repr__(self):\n",
    "        return f\"{self.name} ({self.office_address})\"\n",
    "\n",
    "\n",
    "class Person(MetaClass):\n",
    "    def __init__(self, name: str, age: int, address: str, phone: str, company):\n",
    "        self.name = name\n",
    "        self.age = age\n",
    "        self.address = address\n",
    "        self.phone = phone\n",
    "        self.company = company\n",
    "        self.__dict__ = self.to_json()\n",
    "\n",
    "        super().__init__()\n",
    "\n",
    "    def __str__(self):\n",
    "        return f'{self.name}: Номер телефона - {self.phone}; Компания - {self.company}'\n",
    "\n",
    "    def __repr__(self):\n",
    "        return self.__str__()"
   ],
   "metadata": {
    "collapsed": false,
    "ExecuteTime": {
     "end_time": "2023-12-20T17:04:28.141020400Z",
     "start_time": "2023-12-20T17:04:28.069489500Z"
    }
   },
   "id": "dbd4a891c26ce630"
  },
  {
   "cell_type": "code",
   "execution_count": 169,
   "outputs": [],
   "source": [
    "def generate_serialization_code(cls):\n",
    "    try:\n",
    "        return cls.to_json()\n",
    "    except Exception as e:\n",
    "        raise Exception(f\"Error in 'generate_serialization_code': {e}\")\n",
    "    \n",
    "def generate_people(count: int) -> list:\n",
    "    return [Person(\n",
    "        faker.name(),\n",
    "        random.randint(21, 60),\n",
    "        faker.address(),\n",
    "        faker.phone_number(),\n",
    "        Company(faker.company(), faker.address())\n",
    "    ) for _ in range(count)]"
   ],
   "metadata": {
    "collapsed": false,
    "ExecuteTime": {
     "end_time": "2023-12-20T17:04:28.218269Z",
     "start_time": "2023-12-20T17:04:28.157019600Z"
    }
   },
   "id": "9d59adca74251bb8"
  },
  {
   "cell_type": "code",
   "execution_count": 170,
   "outputs": [
    {
     "data": {
      "text/plain": "{'address': 'клх Томари, пер. Большевистский, д. 536 к. 72, 621093',\n 'age': 23,\n 'company': Гуляева Лимитед (к. Кропоткин (Краснод.), ш. Таежное, д. 8/6 к. 5, 128592),\n 'name': 'София Дмитриевна Константинова',\n 'phone': '8 (268) 436-8090'}"
     },
     "execution_count": 170,
     "metadata": {},
     "output_type": "execute_result"
    }
   ],
   "source": [
    "people = generate_people(10)\n",
    "generate_serialization_code(random.choice(people))"
   ],
   "metadata": {
    "collapsed": false,
    "ExecuteTime": {
     "end_time": "2023-12-20T17:04:28.344050200Z",
     "start_time": "2023-12-20T17:04:28.238267200Z"
    }
   },
   "id": "d8b94ba99f8fd5a6"
  }
 ],
 "metadata": {
  "kernelspec": {
   "display_name": "Python 3",
   "language": "python",
   "name": "python3"
  },
  "language_info": {
   "codemirror_mode": {
    "name": "ipython",
    "version": 2
   },
   "file_extension": ".py",
   "mimetype": "text/x-python",
   "name": "python",
   "nbconvert_exporter": "python",
   "pygments_lexer": "ipython2",
   "version": "2.7.6"
  }
 },
 "nbformat": 4,
 "nbformat_minor": 5
}
