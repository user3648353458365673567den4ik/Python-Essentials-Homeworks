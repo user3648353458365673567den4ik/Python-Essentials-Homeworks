{
 "cells": [
  {
   "cell_type": "code",
   "execution_count": 2,
   "id": "initial_id",
   "metadata": {
    "collapsed": true,
    "ExecuteTime": {
     "end_time": "2024-01-25T14:59:05.026100200Z",
     "start_time": "2024-01-25T14:59:04.984163600Z"
    }
   },
   "outputs": [],
   "source": [
    "import sqlite3\n",
    "import datetime\n",
    "from faker import Faker\n",
    "import random\n",
    "import pandas as pd"
   ]
  },
  {
   "cell_type": "code",
   "execution_count": 3,
   "outputs": [],
   "source": [
    "faker = Faker('ru_ru')"
   ],
   "metadata": {
    "collapsed": false,
    "ExecuteTime": {
     "end_time": "2024-01-25T14:59:05.264197600Z",
     "start_time": "2024-01-25T14:59:05.026100200Z"
    }
   },
   "id": "fab9262e40faa30f"
  },
  {
   "cell_type": "code",
   "execution_count": 35,
   "outputs": [],
   "source": [
    "class DatabaseInterface:\n",
    "    def __init__(self, db_name: str):\n",
    "        database = sqlite3.connect(db_name)\n",
    "        cursor = database.cursor()\n",
    "        self.db_name = db_name\n",
    "        \n",
    "        self.valid_tables = ['Users', 'Orders']\n",
    "        \n",
    "        cursor.execute(\"PRAGMA foreign_keys=ON\")\n",
    "        database.commit()\n",
    "        \n",
    "        cursor.execute(\"\"\"CREATE TABLE IF NOT EXISTS Users (\n",
    "            id INTEGER PRIMARY KEY AUTOINCREMENT,\n",
    "            user_name VARCHAR(60) NOT NULL,\n",
    "            age INTEGER,\n",
    "            email VARCHAR\n",
    "        )\n",
    "        \"\"\")\n",
    "        database.commit()\n",
    "        \n",
    "        cursor.execute(\"\"\"CREATE TABLE IF NOT EXISTS Orders (\n",
    "            id INTEGER PRIMARY KEY AUTOINCREMENT,\n",
    "            user_id INTEGER REFERENCES Users(id) ON DELETE CASCADE,\n",
    "            order_date VARCHAR(19),\n",
    "            amount INTEGER\n",
    "        )\n",
    "        \"\"\")\n",
    "        database.commit()\n",
    "        database.close()\n",
    "        \n",
    "\n",
    "    def __insert_into_users(self, name: str, age: int, email: str):\n",
    "        database = sqlite3.connect(self.db_name)\n",
    "        cursor = database.cursor()\n",
    "        try:\n",
    "            assert isinstance(age, int)\n",
    "            \n",
    "            cursor.execute(f\"INSERT INTO Users (user_name, age, email) VALUES('{name}', {age}, '{email}')\")\n",
    "            database.commit()\n",
    "            database.close()\n",
    "        except Exception as e:\n",
    "            print(\"Error in insert_into_users method:\", e)\n",
    "            database.close()\n",
    "    \n",
    "    def __insert_into_orders(self, user_id: int, date: datetime.date, amount: int):\n",
    "        database = sqlite3.connect(self.db_name)\n",
    "        cursor = database.cursor()\n",
    "        try:\n",
    "            cursor.execute(f\"INSERT INTO Orders (user_id, order_date, amount) VALUES({user_id}, '{str(date)}', {amount})\")\n",
    "            database.commit()\n",
    "        except Exception as e:\n",
    "            print(\"Error in insert_into_orders method:\", e)\n",
    "        finally:\n",
    "            database.close()\n",
    "\n",
    "    def insert_factory(self, table_name: str, *args):\n",
    "        if table_name not in self.valid_tables:\n",
    "            print(f\"Error in  insert_factory: {table_name} table is not valid\")\n",
    "            return\n",
    "        \n",
    "        match table_name:\n",
    "            case \"Users\":\n",
    "                try:\n",
    "                    self.__insert_into_users(*args)\n",
    "                except Exception as e:\n",
    "                    print(\"Error in insert factory (Users):\", e)\n",
    "            case \"Orders\":\n",
    "                try:\n",
    "                    self.__insert_into_orders(*args)\n",
    "                except Exception as e:\n",
    "                    print(\"Error in insert factory (Orders):\", e)\n",
    "\n",
    "    def query(self, query):\n",
    "        database = sqlite3.connect(self.db_name)\n",
    "        cursor = database.cursor()\n",
    "        response = None\n",
    "        try:\n",
    "            response = cursor.execute(query)\n",
    "            database.commit()\n",
    "        except Exception as e:\n",
    "            print(f\"Error has occured in query method: {e}\")\n",
    "            response = e\n",
    "            database.commit()\n",
    "\n",
    "        return response\n",
    "    \n",
    "    def update_user_data(self, user_id: int, name: str = None, age: int = None, email: str = None):\n",
    "        database = sqlite3.connect(self.db_name)\n",
    "        cursor = database.cursor()\n",
    "        user =  cursor.execute(f\"SELECT * FROM Users WHERE id == {user_id}\").fetchone()\n",
    "        if not name:\n",
    "            name = user[1]\n",
    "        if not age:\n",
    "            age = user[2]\n",
    "        if not email:\n",
    "            email = user[3]\n",
    "            \n",
    "        assert isinstance(user_id, int)\n",
    "        assert isinstance(name, str)\n",
    "        assert isinstance(age, int)\n",
    "        assert isinstance(email, str)\n",
    "        \n",
    "        \n",
    "        if not user:\n",
    "            database.close()\n",
    "            return f\"User was not found with id {user_id}\"\n",
    "        \n",
    "            \n",
    "        assert age > 0\n",
    "        \n",
    "        try:\n",
    "            cursor.execute(f\"UPDATE Users SET user_name = '{name}', age = {age}, email = '{email}' WHERE id == {user_id}\")\n",
    "            database.commit()\n",
    "        except Exception as e:\n",
    "            print(\"Error has occured in update_user_data:\", e)\n",
    "        finally:\n",
    "            database.close()\n",
    "\n",
    "    def delete_user_by_id(self, user_id: int):\n",
    "        assert isinstance(user_id, int)\n",
    "        \n",
    "        database = sqlite3.connect(self.db_name)\n",
    "        cursor = database.cursor()\n",
    "\n",
    "        user =  cursor.execute(f\"SELECT * FROM Users WHERE id == {user_id}\").fetchone()\n",
    "        \n",
    "        if not user:\n",
    "            database.close()\n",
    "            raise Exception(f'User with id {user_id} was not found')\n",
    "        \n",
    "        try:\n",
    "            cursor.execute(f\"DELETE FROM Users WHERE id == {user_id}\")\n",
    "            database.commit()\n",
    "        except Exception as e:\n",
    "            print(f\"Error has occured in delete_user_by_id:\", e)\n",
    "            return\n",
    "        finally:\n",
    "            database.close()\n",
    "\n",
    "    def get_user_older_than(self, older_than: int):\n",
    "        assert isinstance(older_than, int)\n",
    "        database = sqlite3.connect(self.db_name)\n",
    "        cursor = database.cursor()\n",
    "        data = cursor.execute(f\"SELECT * FROM Users WHERE age > {older_than}\").fetchall()\n",
    "        database.close()\n",
    "        return data\n",
    "    \n",
    "    def get_user_order(self, userid: int):\n",
    "        assert isinstance(userid, int)\n",
    "        database = sqlite3.connect(self.db_name)\n",
    "        cursor = database.cursor()\n",
    "        data = cursor.execute(f\"SELECT * FROM Orders WHERE user_id == {userid}\").fetchall()\n",
    "        database.close()\n",
    "        return data\n",
    "    \n",
    "    def get_total_price_of_all_orders(self):\n",
    "        database = sqlite3.connect(self.db_name)\n",
    "        cursor = database.cursor()\n",
    "\n",
    "        user_amount = cursor.execute(\"SELECT max(id) FROM Users\").fetchall()[0][0]\n",
    "        user_with_order = pd.Series()\n",
    "        \n",
    "        for userid in range(user_amount):\n",
    "            orders = cursor.execute(f\"SELECT * FROM Orders WHERE user_id == {userid}\").fetchall()\n",
    "            \n",
    "            for order in orders:\n",
    "                try:\n",
    "                    user_with_order[userid] += order[3]\n",
    "                    continue\n",
    "                except KeyError:\n",
    "                    user_with_order[userid] = order[3]\n",
    "        database.close()\n",
    "\n",
    "        for userid, amount in user_with_order.items():\n",
    "            yield f\"Пользователь с id {userid} совершил заказы на сумму {amount}\"\n",
    "                    "
   ],
   "metadata": {
    "collapsed": false,
    "ExecuteTime": {
     "end_time": "2024-01-25T15:11:10.137487600Z",
     "start_time": "2024-01-25T15:11:10.096143800Z"
    }
   },
   "id": "c08673069d5ab3c3"
  },
  {
   "cell_type": "code",
   "execution_count": 36,
   "outputs": [
    {
     "name": "stdout",
     "output_type": "stream",
     "text": [
      "[(2, 'Тарасова Евдокия Леоновна', 38, 'zhanna_12@example.net'), (4, 'Николай Харлампович Устинов', 70, 'vlasovterenti@example.org'), (5, 'Селихов Марьян Дементьев', 34, 'Maryan@gmail.com'), (6, 'Аксенова Фёкла Артемовна', 53, 'dobromisl_15@example.com'), (7, 'Андрон Бориславович Бобылев', 50, 'anike_1991@example.net'), (8, 'Романова Анастасия Васильевна', 42, 'moise_85@example.net'), (9, 'Василиса Макаровна Федорова', 26, 'sitnikovprov@example.org'), (10, 'Святослав Захарьевич Зыков', 32, 'ermolafedoseev@example.com'), (11, 'Пелагея Наумовна Морозова', 38, 'gordeevaksenija@example.net'), (12, 'Колобов Максим Герасимович', 27, 'eduard_07@example.net'), (13, 'Зоя Ильинична Чернова', 68, 'stepanovladimir@example.org'), (14, 'Баранов Прохор Адамович', 48, 'kapiton2001@example.net'), (15, 'Суворова Прасковья Сергеевна', 53, 'korolevaevdokija@example.com'), (16, 'Варфоломей Федосьевич Блохин', 70, 'parfenevseev@example.org'), (17, 'Корнилова Анастасия Тарасовна', 67, 'isa04@example.net'), (18, 'Пахомова Октябрина Филипповна', 22, 'tit00@example.net'), (19, 'Белоусов Григорий Иосифович', 43, 'odintsovrostislav@example.com'), (20, 'Акулина Рубеновна Кулагина', 38, 'valentin_34@example.org'), (21, 'Раиса Александровна Блохина', 38, 'doroninmefodi@example.org'), (22, 'Сидорова Синклитикия Борисовна', 69, 'venediktevseev@example.org'), (23, 'Элеонора Кузьминична Фомичева', 41, 'muhindemid@example.net'), (24, 'Трифон Ааронович Сысоев', 52, 'fshestakov@example.com'), (25, 'Гостомысл Адамович Лапин', 45, 'antonovgennadi@example.net')]\n"
     ]
    }
   ],
   "source": [
    "database = DatabaseInterface('data.db')\n",
    "\n",
    "print(database.query(\"SELECT * FROM Users\").fetchall())\n",
    "\n",
    "def insert_test_data(amount: int):\n",
    "    last_user = database.query(\"SELECT max(id) FROM Users\").fetchall()[0][0]\n",
    "    for i in range(amount):\n",
    "        database.insert_factory(\"Users\", faker.name(), random.randint(21, 70), faker.email())\n",
    "        \n",
    "        order_userid = random.randint(1, last_user)\n",
    "        if database.query(f\"SELECT * FROM Users WHERE id == {order_userid}\").fetchone():\n",
    "            database.insert_factory(\"Orders\", order_userid, \"2024-01-08 23:44:33\", random.randint(100, 100000))\n",
    "\n",
    "insert_test_data(3)"
   ],
   "metadata": {
    "collapsed": false,
    "ExecuteTime": {
     "end_time": "2024-01-25T15:11:10.493249400Z",
     "start_time": "2024-01-25T15:11:10.428476100Z"
    }
   },
   "id": "854117e6e69f2fc"
  },
  {
   "cell_type": "code",
   "execution_count": 37,
   "outputs": [
    {
     "name": "stdout",
     "output_type": "stream",
     "text": [
      "Список пользователей старше 34 лет:\n",
      "[(2, 'Тарасова Евдокия Леоновна', 38, 'zhanna_12@example.net'), (4, 'Николай Харлампович Устинов', 70, 'vlasovterenti@example.org'), (6, 'Аксенова Фёкла Артемовна', 53, 'dobromisl_15@example.com'), (7, 'Андрон Бориславович Бобылев', 50, 'anike_1991@example.net'), (8, 'Романова Анастасия Васильевна', 42, 'moise_85@example.net'), (11, 'Пелагея Наумовна Морозова', 38, 'gordeevaksenija@example.net'), (13, 'Зоя Ильинична Чернова', 68, 'stepanovladimir@example.org'), (14, 'Баранов Прохор Адамович', 48, 'kapiton2001@example.net'), (15, 'Суворова Прасковья Сергеевна', 53, 'korolevaevdokija@example.com'), (16, 'Варфоломей Федосьевич Блохин', 70, 'parfenevseev@example.org'), (17, 'Корнилова Анастасия Тарасовна', 67, 'isa04@example.net'), (19, 'Белоусов Григорий Иосифович', 43, 'odintsovrostislav@example.com'), (20, 'Акулина Рубеновна Кулагина', 38, 'valentin_34@example.org'), (21, 'Раиса Александровна Блохина', 38, 'doroninmefodi@example.org'), (22, 'Сидорова Синклитикия Борисовна', 69, 'venediktevseev@example.org'), (23, 'Элеонора Кузьминична Фомичева', 41, 'muhindemid@example.net'), (24, 'Трифон Ааронович Сысоев', 52, 'fshestakov@example.com'), (25, 'Гостомысл Адамович Лапин', 45, 'antonovgennadi@example.net'), (26, 'Егоров Лазарь Трофимович', 48, 'demid_93@example.com'), (27, 'Георгий Глебович Ершов', 68, 'elena_1986@example.com'), (28, 'Костин Лука Валерианович', 63, 'marian_1972@example.net')]\n",
      "Список заказов, принадлежащих пользователю с id 5:\n",
      "[(8, 5, '2024-01-08 23:44:33', 5311), (11, 5, '2024-01-08 23:44:33', 72442), (21, 5, '2024-01-08 23:44:33', 98006), (22, 5, '2024-01-08 23:44:33', 13115)]\n"
     ]
    }
   ],
   "source": [
    "USER_OLDER_THAN = random.randint(0, 100)\n",
    "USER_ID = random.randint(1, database.query(\"SELECT max(id) FROM Users\").fetchall()[0][0])\n",
    "print(f\"Список пользователей старше {USER_OLDER_THAN} лет:\\n{database.get_user_older_than(USER_OLDER_THAN)}\")\n",
    "print(f\"Список заказов, принадлежащих пользователю с id {USER_ID}:\\n{database.get_user_order(USER_ID)}\")"
   ],
   "metadata": {
    "collapsed": false,
    "ExecuteTime": {
     "end_time": "2024-01-25T15:11:11.195371700Z",
     "start_time": "2024-01-25T15:11:11.190368Z"
    }
   },
   "id": "68c75c0a20ab0416"
  },
  {
   "cell_type": "code",
   "execution_count": 38,
   "outputs": [
    {
     "name": "stdout",
     "output_type": "stream",
     "text": [
      "Пользователь с id 2 совершил заказы на сумму 137867\n",
      "Пользователь с id 3 совершил заказы на сумму 75676\n",
      "Пользователь с id 4 совершил заказы на сумму 39802\n",
      "Пользователь с id 5 совершил заказы на сумму 188874\n",
      "Пользователь с id 7 совершил заказы на сумму 212906\n",
      "Пользователь с id 9 совершил заказы на сумму 150275\n",
      "Пользователь с id 13 совершил заказы на сумму 34814\n",
      "Пользователь с id 17 совершил заказы на сумму 20768\n",
      "Пользователь с id 18 совершил заказы на сумму 91462\n",
      "Пользователь с id 20 совершил заказы на сумму 35996\n"
     ]
    }
   ],
   "source": [
    "for i in list(database.get_total_price_of_all_orders()):\n",
    "    print(i)"
   ],
   "metadata": {
    "collapsed": false,
    "ExecuteTime": {
     "end_time": "2024-01-25T15:11:11.999336400Z",
     "start_time": "2024-01-25T15:11:11.892161200Z"
    }
   },
   "id": "b6a8ee7e4c2dcc2"
  },
  {
   "cell_type": "code",
   "execution_count": 28,
   "outputs": [],
   "source": [
    "# обновление данных пользователя\n",
    "# database.update_user_data(5, name=\"Селихов Марьян Дементьев\", email=\"Maryan@gmail.com\")"
   ],
   "metadata": {
    "collapsed": false,
    "ExecuteTime": {
     "end_time": "2024-01-25T15:08:32.824635100Z",
     "start_time": "2024-01-25T15:08:32.815578100Z"
    }
   },
   "id": "7b1d60efda55aff4"
  },
  {
   "cell_type": "code",
   "execution_count": 30,
   "outputs": [],
   "source": [
    "# delete user from table Users\n",
    "# database.delete_user_by_id(3)"
   ],
   "metadata": {
    "collapsed": false,
    "ExecuteTime": {
     "end_time": "2024-01-25T15:08:39.513151100Z",
     "start_time": "2024-01-25T15:08:39.461217100Z"
    }
   },
   "id": "32229ed483641212"
  },
  {
   "cell_type": "code",
   "execution_count": null,
   "outputs": [],
   "source": [],
   "metadata": {
    "collapsed": false,
    "ExecuteTime": {
     "end_time": "2024-01-25T14:59:07.820852200Z",
     "start_time": "2024-01-25T14:59:07.742735300Z"
    }
   },
   "id": "53ea522a1b0f74c1"
  }
 ],
 "metadata": {
  "kernelspec": {
   "display_name": "Python 3",
   "language": "python",
   "name": "python3"
  },
  "language_info": {
   "codemirror_mode": {
    "name": "ipython",
    "version": 2
   },
   "file_extension": ".py",
   "mimetype": "text/x-python",
   "name": "python",
   "nbconvert_exporter": "python",
   "pygments_lexer": "ipython2",
   "version": "2.7.6"
  }
 },
 "nbformat": 4,
 "nbformat_minor": 5
}
