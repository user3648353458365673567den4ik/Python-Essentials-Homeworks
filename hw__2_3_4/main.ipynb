{
 "cells": [
  {
   "cell_type": "code",
   "execution_count": 2,
   "id": "initial_id",
   "metadata": {
    "collapsed": true,
    "ExecuteTime": {
     "end_time": "2024-01-24T18:20:30.736824400Z",
     "start_time": "2024-01-24T18:20:30.674308600Z"
    }
   },
   "outputs": [],
   "source": [
    "import sqlite3\n",
    "import datetime\n",
    "from faker import Faker\n",
    "import random\n",
    "import pandas as pd"
   ]
  },
  {
   "cell_type": "code",
   "execution_count": 3,
   "outputs": [],
   "source": [
    "faker = Faker('ru_ru')"
   ],
   "metadata": {
    "collapsed": false,
    "ExecuteTime": {
     "end_time": "2024-01-24T18:20:30.986358600Z",
     "start_time": "2024-01-24T18:20:30.689948Z"
    }
   },
   "id": "fab9262e40faa30f"
  },
  {
   "cell_type": "code",
   "execution_count": 4,
   "outputs": [],
   "source": [
    "class DatabaseInterface:\n",
    "    def __init__(self, db_name: str):\n",
    "        self.database = sqlite3.connect(db_name)\n",
    "        self.cursor = self.database.cursor()\n",
    "        \n",
    "        self.valid_tables = ['Users', 'Orders']\n",
    "        \n",
    "        self.cursor.execute(\"PRAGMA foreign_keys=ON\")\n",
    "        self.database.commit()\n",
    "        \n",
    "        self.cursor.execute(\"\"\"CREATE TABLE IF NOT EXISTS Users (\n",
    "            id INTEGER PRIMARY KEY AUTOINCREMENT,\n",
    "            user_name VARCHAR(60) NOT NULL,\n",
    "            age INTEGER,\n",
    "            email VARCHAR\n",
    "        )\n",
    "        \"\"\")\n",
    "        self.database.commit()\n",
    "        \n",
    "        self.cursor.execute(\"\"\"CREATE TABLE IF NOT EXISTS Orders (\n",
    "            id INTEGER PRIMARY KEY AUTOINCREMENT,\n",
    "            user_id INTEGER REFERENCES Users(id) ON DELETE CASCADE,\n",
    "            order_date VARCHAR(19),\n",
    "            amount INTEGER\n",
    "        )\n",
    "        \"\"\")\n",
    "        self.database.commit()\n",
    "        \n",
    "    def __del__(self):\n",
    "        self.database.close()\n",
    "        \n",
    "    def query(self, query):\n",
    "        try:\n",
    "            response = self.cursor.execute(query)\n",
    "            return response\n",
    "        except Exception as e:\n",
    "            print(f\"Error has occured in query method: {e}\")\n",
    "            return e\n",
    "        \n",
    "    def __insert_into_users(self, name: str, age: int, email: str):\n",
    "        try:\n",
    "            assert isinstance(age, int)\n",
    "            \n",
    "            self.cursor.execute(f\"INSERT INTO Users (user_name, age, email) VALUES('{name}', {age}, '{email}')\")\n",
    "            self.database.commit()\n",
    "        except Exception as e:\n",
    "            print(\"Error in insert_into_users method:\", e)\n",
    "    \n",
    "    def __insert_into_orders(self, user_id: int, date: datetime.date, amount: int):\n",
    "        try:\n",
    "            self.cursor.execute(f\"INSERT INTO Orders (user_id, order_date, amount) VALUES({user_id}, '{str(date)}', {amount})\")\n",
    "            self.database.commit()\n",
    "        except Exception as e:\n",
    "            print(\"Error in insert_into_orders method:\", e)\n",
    "            \n",
    "    def insert_factory(self, table_name: str, *args):\n",
    "        if table_name not in self.valid_tables:\n",
    "            print(f\"Error in  insert_factory: {table_name} table is not valid\")\n",
    "            return\n",
    "        \n",
    "        match table_name:\n",
    "            case \"Users\":\n",
    "                try:\n",
    "                    self.__insert_into_users(*args)\n",
    "                except Exception as e:\n",
    "                    print(\"Error in insert factory (Users):\", e)\n",
    "            case \"Orders\":\n",
    "                try:\n",
    "                    self.__insert_into_orders(*args)\n",
    "                except Exception as e:\n",
    "                    print(\"Error in insert factory (Orders):\", e)\n",
    "                \n",
    "    def update_user_data(self, user_id: int, name: str = None, age: int = None, email: str = None):\n",
    "        user =  self.cursor.execute(f\"SELECT * FROM Users WHERE id == {user_id}\").fetchone()\n",
    "        if not name:\n",
    "            name = user[1]\n",
    "        if not age:\n",
    "            age = user[2]\n",
    "        if not email:\n",
    "            email = user[3]\n",
    "            \n",
    "        assert isinstance(user_id, int)\n",
    "        assert isinstance(name, str)\n",
    "        assert isinstance(age, int)\n",
    "        assert isinstance(email, str)\n",
    "        \n",
    "        \n",
    "        if not user:\n",
    "            return f\"User was not found with id {user_id}\"\n",
    "        \n",
    "            \n",
    "        assert age > 0\n",
    "        \n",
    "        try:\n",
    "            self.cursor.execute(f\"UPDATE Users SET user_name = '{name}', age = {age}, email = '{email}' WHERE id == {user_id}\")\n",
    "            self.database.commit()\n",
    "        except Exception as e:\n",
    "            print(\"Error has occured in update_user_data:\", e)\n",
    "            \n",
    "    def delete_user_by_id(self, user_id: int):\n",
    "        assert isinstance(user_id, int)\n",
    "        \n",
    "        user =  self.cursor.execute(f\"SELECT * FROM Users WHERE id == {user_id}\").fetchone()\n",
    "        \n",
    "        if not user:\n",
    "            raise Exception(f'User with id {user_id} was not found')\n",
    "        \n",
    "        try:\n",
    "            self.cursor.execute(f\"DELETE FROM Users WHERE id == {user_id}\")\n",
    "            self.database.commit()\n",
    "        except Exception as e:\n",
    "            print(f\"Error has occured in delete_user_by_id:\", e)\n",
    "            return\n",
    "        \n",
    "                \n",
    "    def get_user_older_than(self, older_than: int):\n",
    "        assert isinstance(older_than, int)\n",
    "        return self.cursor.execute(f\"SELECT * FROM Users WHERE age > {older_than}\").fetchall()\n",
    "    \n",
    "    def get_user_order(self, userid: int):\n",
    "        assert isinstance(userid, int)\n",
    "        return self.cursor.execute(f\"SELECT * FROM Orders WHERE user_id == {userid}\").fetchall()\n",
    "    \n",
    "    def get_total_price_of_all_orders(self):\n",
    "        user_amount = self.cursor.execute(\"SELECT max(id) FROM Users\").fetchall()[0][0]\n",
    "        user_with_order = pd.Series()\n",
    "        \n",
    "        for userid in range(user_amount):\n",
    "            orders = self.cursor.execute(f\"SELECT * FROM Orders WHERE user_id == {userid}\").fetchall()\n",
    "            for order in orders:\n",
    "                try:\n",
    "                    user_with_order[userid] += order[3]\n",
    "                    continue\n",
    "                except KeyError:\n",
    "                    user_with_order[userid] = order[3]\n",
    "                \n",
    "        for userid, amount in user_with_order.items():\n",
    "            yield f\"Пользователь с id {userid} совершил заказы на сумму {amount}\"\n",
    "                    "
   ],
   "metadata": {
    "collapsed": false,
    "ExecuteTime": {
     "end_time": "2024-01-24T18:20:31.071335200Z",
     "start_time": "2024-01-24T18:20:30.986358600Z"
    }
   },
   "id": "c08673069d5ab3c3"
  },
  {
   "cell_type": "code",
   "execution_count": 18,
   "outputs": [],
   "source": [
    "database = DatabaseInterface('data.db')\n",
    "\n",
    "def insert_test_data(amount: int):\n",
    "    last_user = database.query(\"SELECT max(id) FROM Users\").fetchall()[0][0]\n",
    "    for i in range(amount):\n",
    "        database.insert_factory(\"Users\", faker.name(), random.randint(21, 70), faker.email())\n",
    "        \n",
    "        order_userid = random.randint(1, last_user)\n",
    "        if database.query(f\"SELECT * FROM Users WHERE id == {order_userid}\").fetchone():\n",
    "            database.insert_factory(\"Orders\", order_userid, \"2024-01-08 23:44:33\", random.randint(100, 100000))\n",
    "\n",
    "insert_test_data(3)"
   ],
   "metadata": {
    "collapsed": false,
    "ExecuteTime": {
     "end_time": "2024-01-24T18:21:46.023609300Z",
     "start_time": "2024-01-24T18:21:45.980571300Z"
    }
   },
   "id": "854117e6e69f2fc"
  },
  {
   "cell_type": "code",
   "execution_count": 20,
   "outputs": [
    {
     "name": "stdout",
     "output_type": "stream",
     "text": [
      "Список пользователей старше 17 лет:\n",
      "[(2, 'Тарасова Евдокия Леоновна', 38, 'zhanna_12@example.net'), (3, 'Мухин Прокл Геннадиевич', 41, 'fedotovemeljan@example.com'), (4, 'Николай Харлампович Устинов', 70, 'vlasovterenti@example.org'), (5, 'Селихов Марьян Дементьев', 34, 'Maryan@gmail.com'), (6, 'Аксенова Фёкла Артемовна', 53, 'dobromisl_15@example.com'), (7, 'Андрон Бориславович Бобылев', 50, 'anike_1991@example.net'), (8, 'Романова Анастасия Васильевна', 42, 'moise_85@example.net'), (9, 'Василиса Макаровна Федорова', 26, 'sitnikovprov@example.org'), (10, 'Святослав Захарьевич Зыков', 32, 'ermolafedoseev@example.com'), (11, 'Пелагея Наумовна Морозова', 38, 'gordeevaksenija@example.net'), (12, 'Колобов Максим Герасимович', 27, 'eduard_07@example.net'), (13, 'Зоя Ильинична Чернова', 68, 'stepanovladimir@example.org')]\n",
      "Список заказов, принадлежащих пользователю с id 9:\n",
      "[(10, 9, '2024-01-08 23:44:33', 84882)]\n"
     ]
    }
   ],
   "source": [
    "USER_OLDER_THAN = random.randint(0, 100)\n",
    "USER_ID = random.randint(1, database.query(\"SELECT max(id) FROM Users\").fetchall()[0][0])\n",
    "print(f\"Список пользователей старше {USER_OLDER_THAN} лет:\\n{database.get_user_older_than(USER_OLDER_THAN)}\")\n",
    "print(f\"Список заказов, принадлежащих пользователю с id {USER_ID}:\\n{database.get_user_order(USER_ID)}\")"
   ],
   "metadata": {
    "collapsed": false,
    "ExecuteTime": {
     "end_time": "2024-01-24T18:22:07.076408600Z",
     "start_time": "2024-01-24T18:22:07.055068Z"
    }
   },
   "id": "68c75c0a20ab0416"
  },
  {
   "cell_type": "code",
   "execution_count": 19,
   "outputs": [
    {
     "name": "stdout",
     "output_type": "stream",
     "text": [
      "Пользователь с id 2 совершил заказы на сумму 41678\n",
      "Пользователь с id 3 совершил заказы на сумму 75676\n",
      "Пользователь с id 5 совершил заказы на сумму 77753\n",
      "Пользователь с id 7 совершил заказы на сумму 87609\n",
      "Пользователь с id 9 совершил заказы на сумму 84882\n"
     ]
    }
   ],
   "source": [
    "for i in list(database.get_total_price_of_all_orders()):\n",
    "    print(i)"
   ],
   "metadata": {
    "collapsed": false,
    "ExecuteTime": {
     "end_time": "2024-01-24T18:22:00.734312100Z",
     "start_time": "2024-01-24T18:22:00.715638600Z"
    }
   },
   "id": "b6a8ee7e4c2dcc2"
  },
  {
   "cell_type": "code",
   "execution_count": 16,
   "outputs": [],
   "source": [
    "# обновление данных пользователя\n",
    "# database.update_user_data(5, name=\"Селихов Марьян Дементьев\", email=\"Maryan@gmail.com\")"
   ],
   "metadata": {
    "collapsed": false,
    "ExecuteTime": {
     "end_time": "2024-01-24T18:21:30.500983Z",
     "start_time": "2024-01-24T18:21:30.473995800Z"
    }
   },
   "id": "7b1d60efda55aff4"
  },
  {
   "cell_type": "code",
   "execution_count": 17,
   "outputs": [],
   "source": [
    "# delete user from table Users\n",
    "# database.delete_user_by_id(1)"
   ],
   "metadata": {
    "collapsed": false,
    "ExecuteTime": {
     "end_time": "2024-01-24T18:21:38.492624Z",
     "start_time": "2024-01-24T18:21:38.436643Z"
    }
   },
   "id": "32229ed483641212"
  },
  {
   "cell_type": "code",
   "execution_count": null,
   "outputs": [],
   "source": [],
   "metadata": {
    "collapsed": false
   },
   "id": "53ea522a1b0f74c1"
  }
 ],
 "metadata": {
  "kernelspec": {
   "display_name": "Python 3",
   "language": "python",
   "name": "python3"
  },
  "language_info": {
   "codemirror_mode": {
    "name": "ipython",
    "version": 2
   },
   "file_extension": ".py",
   "mimetype": "text/x-python",
   "name": "python",
   "nbconvert_exporter": "python",
   "pygments_lexer": "ipython2",
   "version": "2.7.6"
  }
 },
 "nbformat": 4,
 "nbformat_minor": 5
}
