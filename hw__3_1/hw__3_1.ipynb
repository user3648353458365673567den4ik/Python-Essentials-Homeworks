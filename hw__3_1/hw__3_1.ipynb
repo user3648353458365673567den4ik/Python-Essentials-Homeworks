{
  "nbformat": 4,
  "nbformat_minor": 0,
  "metadata": {
    "colab": {
      "provenance": []
    },
    "kernelspec": {
      "name": "python3",
      "display_name": "Python 3"
    },
    "language_info": {
      "name": "python"
    }
  },
  "cells": [
    {
      "cell_type": "markdown",
      "source": [
        "# **Задача.**\n",
        "\n",
        "Представьте, что вы работаете археологом и вас интересует анализ результатов раскопок на древнем участке. У вас есть данные о находках артефактов, включая их возраст и материал. Ваши задачи:\n",
        "\n",
        "Используя NumPy и Pandas, выяснить средний возраст артефактов и медианный возраст.\n",
        "\n",
        "Разделить артефакты на две категории: \"деревянные\" и \"керамические\". Посчитать количество артефактов в каждой категории.\n",
        "\n",
        "Определить, сколько артефактов было найдено в каждом году, и построить график распределения находок по годам.\n",
        "\n",
        "Вычислить процентное соотношение керамических артефактов ко всем артефактам."
      ],
      "metadata": {
        "id": "Q1G2gwdftSwa"
      }
    },
    {
      "cell_type": "code",
      "execution_count": null,
      "metadata": {
        "id": "bFuSGCH5t8EX"
      },
      "outputs": [],
      "source": [
        "import numpy as np\n",
        "import pandas as pd\n",
        "import matplotlib.pyplot as plt"
      ]
    },
    {
      "cell_type": "markdown",
      "source": [
        "# **Инициализируем конфигурационные переменные**\n",
        "\n",
        "\n",
        "*   **MIN_AGE** - минимальный возраст артефакта\n",
        "*   **MAX_AGE** - максимальный возраст артефакта\n",
        "*   **SINCE_DATE** - дата начала раскопок\n",
        "*   **TO_DATE** - дата конца раскопок\n",
        "\n",
        "\n",
        "\n"
      ],
      "metadata": {
        "id": "dtpmr04lzIJl"
      }
    },
    {
      "cell_type": "code",
      "source": [
        "MIN_AGE = 100\n",
        "MAX_AGE = 10000\n",
        "\n",
        "SINCE_DATE = np.datetime64(\"2024-01-01\")\n",
        "TO_DATE = np.datetime64(\"2030-01-01\")\n",
        "\n",
        "if TO_DATE <= SINCE_DATE:\n",
        "    raise \"You can't set date lower than tomorrow of SINCE_DATE\""
      ],
      "metadata": {
        "id": "gd6I_rhYy_x8"
      },
      "execution_count": null,
      "outputs": []
    },
    {
      "cell_type": "markdown",
      "source": [
        "# **Логика создания набора данных**"
      ],
      "metadata": {
        "id": "djZTOSRiznVm"
      }
    },
    {
      "cell_type": "code",
      "source": [
        "start_date = SINCE_DATE\n",
        "end_date = TO_DATE\n",
        "dates = np.arange(start_date, end_date, np.timedelta64(np.random.randint(1, 30), 'D'))\n",
        "\n",
        "ages = np.random.randint(MIN_AGE, MAX_AGE, dates.size)\n",
        "categories = [\"деревянные\", \"керамические\"]\n",
        "\n",
        "\n",
        "artifacts = pd.DataFrame({'Дата': dates, 'Возраст': ages, 'Категория': [np.random.choice(categories) for _ in range(dates.size)]})\n",
        "artifacts.head(10)"
      ],
      "metadata": {
        "colab": {
          "base_uri": "https://localhost:8080/",
          "height": 363
        },
        "id": "DIue5qe1uEt7",
        "outputId": "f74493d5-bf74-4672-b23a-e91bf5da745a"
      },
      "execution_count": null,
      "outputs": [
        {
          "output_type": "execute_result",
          "data": {
            "text/plain": [
              "        Дата  Возраст     Категория\n",
              "0 2024-01-01      969    деревянные\n",
              "1 2024-01-08     9758    деревянные\n",
              "2 2024-01-15     5990  керамические\n",
              "3 2024-01-22     7421    деревянные\n",
              "4 2024-01-29     1853  керамические\n",
              "5 2024-02-05     2704    деревянные\n",
              "6 2024-02-12     8745    деревянные\n",
              "7 2024-02-19     8095    деревянные\n",
              "8 2024-02-26     8505    деревянные\n",
              "9 2024-03-04     4845    деревянные"
            ],
            "text/html": [
              "\n",
              "  <div id=\"df-13828e47-f521-4be6-8a12-1cb379b3359c\" class=\"colab-df-container\">\n",
              "    <div>\n",
              "<style scoped>\n",
              "    .dataframe tbody tr th:only-of-type {\n",
              "        vertical-align: middle;\n",
              "    }\n",
              "\n",
              "    .dataframe tbody tr th {\n",
              "        vertical-align: top;\n",
              "    }\n",
              "\n",
              "    .dataframe thead th {\n",
              "        text-align: right;\n",
              "    }\n",
              "</style>\n",
              "<table border=\"1\" class=\"dataframe\">\n",
              "  <thead>\n",
              "    <tr style=\"text-align: right;\">\n",
              "      <th></th>\n",
              "      <th>Дата</th>\n",
              "      <th>Возраст</th>\n",
              "      <th>Категория</th>\n",
              "    </tr>\n",
              "  </thead>\n",
              "  <tbody>\n",
              "    <tr>\n",
              "      <th>0</th>\n",
              "      <td>2024-01-01</td>\n",
              "      <td>969</td>\n",
              "      <td>деревянные</td>\n",
              "    </tr>\n",
              "    <tr>\n",
              "      <th>1</th>\n",
              "      <td>2024-01-08</td>\n",
              "      <td>9758</td>\n",
              "      <td>деревянные</td>\n",
              "    </tr>\n",
              "    <tr>\n",
              "      <th>2</th>\n",
              "      <td>2024-01-15</td>\n",
              "      <td>5990</td>\n",
              "      <td>керамические</td>\n",
              "    </tr>\n",
              "    <tr>\n",
              "      <th>3</th>\n",
              "      <td>2024-01-22</td>\n",
              "      <td>7421</td>\n",
              "      <td>деревянные</td>\n",
              "    </tr>\n",
              "    <tr>\n",
              "      <th>4</th>\n",
              "      <td>2024-01-29</td>\n",
              "      <td>1853</td>\n",
              "      <td>керамические</td>\n",
              "    </tr>\n",
              "    <tr>\n",
              "      <th>5</th>\n",
              "      <td>2024-02-05</td>\n",
              "      <td>2704</td>\n",
              "      <td>деревянные</td>\n",
              "    </tr>\n",
              "    <tr>\n",
              "      <th>6</th>\n",
              "      <td>2024-02-12</td>\n",
              "      <td>8745</td>\n",
              "      <td>деревянные</td>\n",
              "    </tr>\n",
              "    <tr>\n",
              "      <th>7</th>\n",
              "      <td>2024-02-19</td>\n",
              "      <td>8095</td>\n",
              "      <td>деревянные</td>\n",
              "    </tr>\n",
              "    <tr>\n",
              "      <th>8</th>\n",
              "      <td>2024-02-26</td>\n",
              "      <td>8505</td>\n",
              "      <td>деревянные</td>\n",
              "    </tr>\n",
              "    <tr>\n",
              "      <th>9</th>\n",
              "      <td>2024-03-04</td>\n",
              "      <td>4845</td>\n",
              "      <td>деревянные</td>\n",
              "    </tr>\n",
              "  </tbody>\n",
              "</table>\n",
              "</div>\n",
              "    <div class=\"colab-df-buttons\">\n",
              "\n",
              "  <div class=\"colab-df-container\">\n",
              "    <button class=\"colab-df-convert\" onclick=\"convertToInteractive('df-13828e47-f521-4be6-8a12-1cb379b3359c')\"\n",
              "            title=\"Convert this dataframe to an interactive table.\"\n",
              "            style=\"display:none;\">\n",
              "\n",
              "  <svg xmlns=\"http://www.w3.org/2000/svg\" height=\"24px\" viewBox=\"0 -960 960 960\">\n",
              "    <path d=\"M120-120v-720h720v720H120Zm60-500h600v-160H180v160Zm220 220h160v-160H400v160Zm0 220h160v-160H400v160ZM180-400h160v-160H180v160Zm440 0h160v-160H620v160ZM180-180h160v-160H180v160Zm440 0h160v-160H620v160Z\"/>\n",
              "  </svg>\n",
              "    </button>\n",
              "\n",
              "  <style>\n",
              "    .colab-df-container {\n",
              "      display:flex;\n",
              "      gap: 12px;\n",
              "    }\n",
              "\n",
              "    .colab-df-convert {\n",
              "      background-color: #E8F0FE;\n",
              "      border: none;\n",
              "      border-radius: 50%;\n",
              "      cursor: pointer;\n",
              "      display: none;\n",
              "      fill: #1967D2;\n",
              "      height: 32px;\n",
              "      padding: 0 0 0 0;\n",
              "      width: 32px;\n",
              "    }\n",
              "\n",
              "    .colab-df-convert:hover {\n",
              "      background-color: #E2EBFA;\n",
              "      box-shadow: 0px 1px 2px rgba(60, 64, 67, 0.3), 0px 1px 3px 1px rgba(60, 64, 67, 0.15);\n",
              "      fill: #174EA6;\n",
              "    }\n",
              "\n",
              "    .colab-df-buttons div {\n",
              "      margin-bottom: 4px;\n",
              "    }\n",
              "\n",
              "    [theme=dark] .colab-df-convert {\n",
              "      background-color: #3B4455;\n",
              "      fill: #D2E3FC;\n",
              "    }\n",
              "\n",
              "    [theme=dark] .colab-df-convert:hover {\n",
              "      background-color: #434B5C;\n",
              "      box-shadow: 0px 1px 3px 1px rgba(0, 0, 0, 0.15);\n",
              "      filter: drop-shadow(0px 1px 2px rgba(0, 0, 0, 0.3));\n",
              "      fill: #FFFFFF;\n",
              "    }\n",
              "  </style>\n",
              "\n",
              "    <script>\n",
              "      const buttonEl =\n",
              "        document.querySelector('#df-13828e47-f521-4be6-8a12-1cb379b3359c button.colab-df-convert');\n",
              "      buttonEl.style.display =\n",
              "        google.colab.kernel.accessAllowed ? 'block' : 'none';\n",
              "\n",
              "      async function convertToInteractive(key) {\n",
              "        const element = document.querySelector('#df-13828e47-f521-4be6-8a12-1cb379b3359c');\n",
              "        const dataTable =\n",
              "          await google.colab.kernel.invokeFunction('convertToInteractive',\n",
              "                                                    [key], {});\n",
              "        if (!dataTable) return;\n",
              "\n",
              "        const docLinkHtml = 'Like what you see? Visit the ' +\n",
              "          '<a target=\"_blank\" href=https://colab.research.google.com/notebooks/data_table.ipynb>data table notebook</a>'\n",
              "          + ' to learn more about interactive tables.';\n",
              "        element.innerHTML = '';\n",
              "        dataTable['output_type'] = 'display_data';\n",
              "        await google.colab.output.renderOutput(dataTable, element);\n",
              "        const docLink = document.createElement('div');\n",
              "        docLink.innerHTML = docLinkHtml;\n",
              "        element.appendChild(docLink);\n",
              "      }\n",
              "    </script>\n",
              "  </div>\n",
              "\n",
              "\n",
              "<div id=\"df-0c06bd31-89f4-46dc-8c96-ebbdcc67deb2\">\n",
              "  <button class=\"colab-df-quickchart\" onclick=\"quickchart('df-0c06bd31-89f4-46dc-8c96-ebbdcc67deb2')\"\n",
              "            title=\"Suggest charts\"\n",
              "            style=\"display:none;\">\n",
              "\n",
              "<svg xmlns=\"http://www.w3.org/2000/svg\" height=\"24px\"viewBox=\"0 0 24 24\"\n",
              "     width=\"24px\">\n",
              "    <g>\n",
              "        <path d=\"M19 3H5c-1.1 0-2 .9-2 2v14c0 1.1.9 2 2 2h14c1.1 0 2-.9 2-2V5c0-1.1-.9-2-2-2zM9 17H7v-7h2v7zm4 0h-2V7h2v10zm4 0h-2v-4h2v4z\"/>\n",
              "    </g>\n",
              "</svg>\n",
              "  </button>\n",
              "\n",
              "<style>\n",
              "  .colab-df-quickchart {\n",
              "      --bg-color: #E8F0FE;\n",
              "      --fill-color: #1967D2;\n",
              "      --hover-bg-color: #E2EBFA;\n",
              "      --hover-fill-color: #174EA6;\n",
              "      --disabled-fill-color: #AAA;\n",
              "      --disabled-bg-color: #DDD;\n",
              "  }\n",
              "\n",
              "  [theme=dark] .colab-df-quickchart {\n",
              "      --bg-color: #3B4455;\n",
              "      --fill-color: #D2E3FC;\n",
              "      --hover-bg-color: #434B5C;\n",
              "      --hover-fill-color: #FFFFFF;\n",
              "      --disabled-bg-color: #3B4455;\n",
              "      --disabled-fill-color: #666;\n",
              "  }\n",
              "\n",
              "  .colab-df-quickchart {\n",
              "    background-color: var(--bg-color);\n",
              "    border: none;\n",
              "    border-radius: 50%;\n",
              "    cursor: pointer;\n",
              "    display: none;\n",
              "    fill: var(--fill-color);\n",
              "    height: 32px;\n",
              "    padding: 0;\n",
              "    width: 32px;\n",
              "  }\n",
              "\n",
              "  .colab-df-quickchart:hover {\n",
              "    background-color: var(--hover-bg-color);\n",
              "    box-shadow: 0 1px 2px rgba(60, 64, 67, 0.3), 0 1px 3px 1px rgba(60, 64, 67, 0.15);\n",
              "    fill: var(--button-hover-fill-color);\n",
              "  }\n",
              "\n",
              "  .colab-df-quickchart-complete:disabled,\n",
              "  .colab-df-quickchart-complete:disabled:hover {\n",
              "    background-color: var(--disabled-bg-color);\n",
              "    fill: var(--disabled-fill-color);\n",
              "    box-shadow: none;\n",
              "  }\n",
              "\n",
              "  .colab-df-spinner {\n",
              "    border: 2px solid var(--fill-color);\n",
              "    border-color: transparent;\n",
              "    border-bottom-color: var(--fill-color);\n",
              "    animation:\n",
              "      spin 1s steps(1) infinite;\n",
              "  }\n",
              "\n",
              "  @keyframes spin {\n",
              "    0% {\n",
              "      border-color: transparent;\n",
              "      border-bottom-color: var(--fill-color);\n",
              "      border-left-color: var(--fill-color);\n",
              "    }\n",
              "    20% {\n",
              "      border-color: transparent;\n",
              "      border-left-color: var(--fill-color);\n",
              "      border-top-color: var(--fill-color);\n",
              "    }\n",
              "    30% {\n",
              "      border-color: transparent;\n",
              "      border-left-color: var(--fill-color);\n",
              "      border-top-color: var(--fill-color);\n",
              "      border-right-color: var(--fill-color);\n",
              "    }\n",
              "    40% {\n",
              "      border-color: transparent;\n",
              "      border-right-color: var(--fill-color);\n",
              "      border-top-color: var(--fill-color);\n",
              "    }\n",
              "    60% {\n",
              "      border-color: transparent;\n",
              "      border-right-color: var(--fill-color);\n",
              "    }\n",
              "    80% {\n",
              "      border-color: transparent;\n",
              "      border-right-color: var(--fill-color);\n",
              "      border-bottom-color: var(--fill-color);\n",
              "    }\n",
              "    90% {\n",
              "      border-color: transparent;\n",
              "      border-bottom-color: var(--fill-color);\n",
              "    }\n",
              "  }\n",
              "</style>\n",
              "\n",
              "  <script>\n",
              "    async function quickchart(key) {\n",
              "      const quickchartButtonEl =\n",
              "        document.querySelector('#' + key + ' button');\n",
              "      quickchartButtonEl.disabled = true;  // To prevent multiple clicks.\n",
              "      quickchartButtonEl.classList.add('colab-df-spinner');\n",
              "      try {\n",
              "        const charts = await google.colab.kernel.invokeFunction(\n",
              "            'suggestCharts', [key], {});\n",
              "      } catch (error) {\n",
              "        console.error('Error during call to suggestCharts:', error);\n",
              "      }\n",
              "      quickchartButtonEl.classList.remove('colab-df-spinner');\n",
              "      quickchartButtonEl.classList.add('colab-df-quickchart-complete');\n",
              "    }\n",
              "    (() => {\n",
              "      let quickchartButtonEl =\n",
              "        document.querySelector('#df-0c06bd31-89f4-46dc-8c96-ebbdcc67deb2 button');\n",
              "      quickchartButtonEl.style.display =\n",
              "        google.colab.kernel.accessAllowed ? 'block' : 'none';\n",
              "    })();\n",
              "  </script>\n",
              "</div>\n",
              "    </div>\n",
              "  </div>\n"
            ]
          },
          "metadata": {},
          "execution_count": 246
        }
      ]
    },
    {
      "cell_type": "markdown",
      "source": [
        "# Вывод среднего и медианного возраста артефактов"
      ],
      "metadata": {
        "id": "vcHS-0pcNnvy"
      }
    },
    {
      "cell_type": "code",
      "source": [
        "mean_age = np.mean(artifacts['Возраст'])\n",
        "median_age = np.median(artifacts['Возраст'])\n",
        "\n",
        "print(f'Средний возраст: {mean_age}\\nМедианный возраст: {median_age}')"
      ],
      "metadata": {
        "id": "yYFek-99vl9l",
        "colab": {
          "base_uri": "https://localhost:8080/"
        },
        "outputId": "45a02278-dedc-4ffe-b673-0401410a4b15"
      },
      "execution_count": null,
      "outputs": [
        {
          "output_type": "stream",
          "name": "stdout",
          "text": [
            "Средний возраст: 4888.748407643312\n",
            "Медианный возраст: 5024.5\n"
          ]
        }
      ]
    },
    {
      "cell_type": "markdown",
      "source": [
        "# Подсчет количества артефактов"
      ],
      "metadata": {
        "id": "dgE67Aa8b6Az"
      }
    },
    {
      "cell_type": "code",
      "source": [
        "wooden_artifacts = artifacts[artifacts['Категория'] == categories[0]]\n",
        "ceramic_artifacts = artifacts[artifacts['Категория'] == categories[1]]\n",
        "\n",
        "assert wooden_artifacts.size + ceramic_artifacts.size == artifacts.size\n",
        "\n",
        "print(f\"Количество деревянных артефактов: {wooden_artifacts.size}\")\n",
        "print(f\"Количество керамических артефактов: {ceramic_artifacts.size}\")"
      ],
      "metadata": {
        "colab": {
          "base_uri": "https://localhost:8080/"
        },
        "id": "8RN9zo2mNkoe",
        "outputId": "4e63862c-5527-4278-bb5d-94f0e636de32"
      },
      "execution_count": null,
      "outputs": [
        {
          "output_type": "stream",
          "name": "stdout",
          "text": [
            "Количество деревянных артефактов: 465\n",
            "Количество керамических артефактов: 477\n"
          ]
        }
      ]
    },
    {
      "cell_type": "markdown",
      "source": [
        "# Количество находок по годам"
      ],
      "metadata": {
        "id": "KXS1hG0dd_kM"
      }
    },
    {
      "cell_type": "code",
      "source": [
        "years = np.unique(dates.astype('datetime64[Y]'))\n",
        "year_artifacts = artifacts.groupby(artifacts['Дата'].dt.year)\n",
        "\n",
        "for year_artifact in year_artifacts:\n",
        "    print(f\"Год {year_artifact[0]}: найдено {year_artifact[1].size} артефактов\")\n",
        "    plt.scatter(year_artifact[1].size, year_artifact[0])\n",
        "\n",
        "plt.show()"
      ],
      "metadata": {
        "colab": {
          "base_uri": "https://localhost:8080/",
          "height": 534
        },
        "id": "DuBnuQBQPXTv",
        "outputId": "94f99d84-9c21-40b7-9e11-fed902d4d967"
      },
      "execution_count": null,
      "outputs": [
        {
          "output_type": "stream",
          "name": "stdout",
          "text": [
            "Год 2024: найдено 159 артефактов\n",
            "Год 2025: найдено 156 артефактов\n",
            "Год 2026: найдено 156 артефактов\n",
            "Год 2027: найдено 156 артефактов\n",
            "Год 2028: найдено 156 артефактов\n",
            "Год 2029: найдено 159 артефактов\n"
          ]
        },
        {
          "output_type": "display_data",
          "data": {
            "text/plain": [
              "<Figure size 640x480 with 1 Axes>"
            ],
            "image/png": "[encoded data removed]"
          },
          "metadata": {}
        }
      ]
    },
    {
      "cell_type": "markdown",
      "source": [
        "# Процентное соотношение керамических артефактов ко всем артефактам"
      ],
      "metadata": {
        "id": "Wn4DRKRleKhM"
      }
    },
    {
      "cell_type": "code",
      "source": [
        "\n",
        "ceramic_to_all = (ceramic_artifacts.size / artifacts.size) * 100\n",
        "print(f\"Процентное соотношение керамических артефактов ко всем артефактам: {ceramic_to_all}%\")"
      ],
      "metadata": {
        "colab": {
          "base_uri": "https://localhost:8080/"
        },
        "id": "Nrx_PPY6V7ib",
        "outputId": "cd103ff6-43df-4376-8803-a86f1cad0366"
      },
      "execution_count": null,
      "outputs": [
        {
          "output_type": "stream",
          "name": "stdout",
          "text": [
            "Процентное соотношение керамических артефактов ко всем артефактам: 50.63694267515923%\n"
          ]
        }
      ]
    }
  ]
}