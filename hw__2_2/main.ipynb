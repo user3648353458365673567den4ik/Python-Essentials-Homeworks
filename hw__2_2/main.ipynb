{
 "cells": [
  {
   "cell_type": "code",
   "execution_count": 1,
   "id": "initial_id",
   "metadata": {
    "collapsed": true,
    "ExecuteTime": {
     "end_time": "2024-01-24T15:37:33.585021800Z",
     "start_time": "2024-01-24T15:37:33.566753800Z"
    }
   },
   "outputs": [],
   "source": [
    "import struct"
   ]
  },
  {
   "cell_type": "code",
   "execution_count": 88,
   "outputs": [],
   "source": [
    "# данные будут представлены как некоторые данные об ученике: имя, номер школы, средний, балл аттестата\n",
    "DATA = [\n",
    "    {\n",
    "        \"name\": \"Alexander\",\n",
    "        \"school\": 74,\n",
    "        \"average_score\": 4.78\n",
    "    },\n",
    "    {\n",
    "        \"name\": \"Maxim\",\n",
    "        \"school\": 45,\n",
    "        \"average_score\": 3.67\n",
    "    },\n",
    "    {\n",
    "        \"name\": \"Nikolai\",\n",
    "        \"school\": 65,\n",
    "        \"average_score\": 4.92\n",
    "    }\n",
    "]"
   ],
   "metadata": {
    "collapsed": false,
    "ExecuteTime": {
     "end_time": "2024-01-24T16:35:46.977823100Z",
     "start_time": "2024-01-24T16:35:46.956408Z"
    }
   },
   "id": "561166c9ec1c00af"
  },
  {
   "cell_type": "code",
   "execution_count": 3,
   "outputs": [],
   "source": [
    "FILENAME = \"students.bin\""
   ],
   "metadata": {
    "collapsed": false,
    "ExecuteTime": {
     "end_time": "2024-01-24T15:46:01.972511900Z",
     "start_time": "2024-01-24T15:46:01.929186200Z"
    }
   },
   "id": "118aff10f3ad2ede"
  },
  {
   "cell_type": "code",
   "execution_count": 145,
   "outputs": [],
   "source": [
    "class BinaryInterface:\n",
    "    def __init__(self, filename: str):\n",
    "        if filename.split('.')[-1] != 'bin':\n",
    "            raise AssertionError('File must be a binary!')\n",
    "        self.filename = filename\n",
    "        self.bin_pattern = '>16s I f'\n",
    "        \n",
    "    @staticmethod\n",
    "    def __get_fixed_len_string(string: str) -> str:\n",
    "        string = string.strip(' ')\n",
    "        if len(string) > 16:\n",
    "            string = string[:16]\n",
    "        elif len(string) < 16:\n",
    "            space_count = 16 - len(string)\n",
    "            string += ' ' * space_count\n",
    "        \n",
    "        return string\n",
    "        \n",
    "    def write_data(self, data: list[dict]):\n",
    "        lines = []\n",
    "        for student in data:\n",
    "            if len(student['name'].strip()) > 16:\n",
    "                student['name'] = student['name'][:16]\n",
    "            elif len(student['name'].strip()) < 16:\n",
    "                student['name'] = self.__get_fixed_len_string(student['name'])\n",
    "\n",
    "            lines.append(struct.pack(self.bin_pattern, student['name'].encode('utf-8'), student['school'], student['average_score']))\n",
    "\n",
    "        try:\n",
    "            with open(self.filename, 'wb') as file:\n",
    "                file.writelines(lines)\n",
    "        except Exception as e:\n",
    "            print(f\"Some error occured: {e}\")\n",
    "            return\n",
    "            \n",
    "    def read_data(self) -> list[dict]:\n",
    "        lines = []\n",
    "        result_data = []\n",
    "        try:\n",
    "            with open(self.filename, 'rb') as file:\n",
    "                while True:\n",
    "                    data = file.readline(struct.calcsize(self.bin_pattern))\n",
    "                    if not data:\n",
    "                        break\n",
    "                    lines.append(struct.unpack(self.bin_pattern, data))\n",
    "                    \n",
    "            for line in lines:\n",
    "                student = {\"name\": line[0].decode('utf-8').strip(' '), \"school\": int(line[1]),\n",
    "                           \"average_score\": float(round(line[2], 2))}\n",
    "                result_data.append(student)\n",
    "        except Exception as e:\n",
    "            print(f\"Some error occured: {e}\")\n",
    "            return [{}]\n",
    "            \n",
    "        return result_data"
   ],
   "metadata": {
    "collapsed": false,
    "ExecuteTime": {
     "end_time": "2024-01-24T16:49:19.571335800Z",
     "start_time": "2024-01-24T16:49:19.544668100Z"
    }
   },
   "id": "4f4c5e4dc63d7fed"
  },
  {
   "cell_type": "code",
   "execution_count": 146,
   "outputs": [
    {
     "data": {
      "text/plain": "[{'name': 'Alexander', 'school': 74, 'average_score': 4.78},\n {'name': 'Maxim', 'school': 45, 'average_score': 3.67},\n {'name': 'Nikolai', 'school': 65, 'average_score': 4.92}]"
     },
     "execution_count": 146,
     "metadata": {},
     "output_type": "execute_result"
    }
   ],
   "source": [
    "binary = BinaryInterface(FILENAME)\n",
    "binary.write_data(DATA)\n",
    "binary.read_data()"
   ],
   "metadata": {
    "collapsed": false,
    "ExecuteTime": {
     "end_time": "2024-01-24T16:49:20.161114100Z",
     "start_time": "2024-01-24T16:49:20.139435300Z"
    }
   },
   "id": "53c565ecbc0f7ad"
  }
 ],
 "metadata": {
  "kernelspec": {
   "display_name": "Python 3",
   "language": "python",
   "name": "python3"
  },
  "language_info": {
   "codemirror_mode": {
    "name": "ipython",
    "version": 2
   },
   "file_extension": ".py",
   "mimetype": "text/x-python",
   "name": "python",
   "nbconvert_exporter": "python",
   "pygments_lexer": "ipython2",
   "version": "2.7.6"
  }
 },
 "nbformat": 4,
 "nbformat_minor": 5
}
