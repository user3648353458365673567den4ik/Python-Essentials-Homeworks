{
 "cells": [
  {
   "cell_type": "code",
   "execution_count": 106,
   "outputs": [],
   "source": [
    "import functools\n",
    "import numpy as np\n",
    "import math"
   ],
   "metadata": {
    "collapsed": false,
    "ExecuteTime": {
     "end_time": "2023-12-20T19:51:46.596298700Z",
     "start_time": "2023-12-20T19:51:46.556365600Z"
    }
   },
   "id": "3d525cd7c33a1a59"
  },
  {
   "cell_type": "code",
   "execution_count": 99,
   "id": "initial_id",
   "metadata": {
    "collapsed": true,
    "ExecuteTime": {
     "end_time": "2023-12-20T19:49:26.282497600Z",
     "start_time": "2023-12-20T19:49:26.251494800Z"
    }
   },
   "outputs": [],
   "source": [
    "def factorial(n: int) -> int:\n",
    "    if not isinstance(n, int) or n < 0:\n",
    "        raise ValueError(\"Incorrect value\", n)\n",
    "    \n",
    "    if n == 0:\n",
    "        return 1\n",
    "    \n",
    "    num = 1\n",
    "    for i in range(1, n+1):\n",
    "        num *= i\n",
    "    \n",
    "    return num\n",
    "\n",
    "def factorial_recurs(n: int) -> int:\n",
    "    if not isinstance(n, int) or n < 0:\n",
    "        raise ValueError(\"Incorrect value\", n)\n",
    "    \n",
    "    if n == 0:\n",
    "        return 1\n",
    "    else:\n",
    "        return n * factorial_recurs(n - 1)\n",
    "    \n",
    "def factorial_high_level(n: int, func) -> int:\n",
    "    # обработка исключения прописана в функциях, от которых работает эта, но все равно пропишем на всякий случай :)\n",
    "    if not isinstance(n, int) or n < 0:\n",
    "        raise ValueError(\"Incorrect value\", n)\n",
    "    \n",
    "    try:\n",
    "        return func(n)\n",
    "    except Exception as e:\n",
    "        return e\n",
    "    \n",
    "factorial_lambda_result = functools.reduce(lambda x, y: x * y, [i for i in range(1, 11)])"
   ]
  },
  {
   "cell_type": "code",
   "execution_count": 100,
   "outputs": [
    {
     "name": "stdout",
     "output_type": "stream",
     "text": [
      "3628800\n",
      "3628800\n",
      "3628800\n",
      "3628800\n"
     ]
    }
   ],
   "source": [
    "print(factorial(10))\n",
    "print(factorial_recurs(10))\n",
    "print(factorial_lambda_result)\n",
    "print(factorial_high_level(10, factorial_recurs))"
   ],
   "metadata": {
    "collapsed": false,
    "ExecuteTime": {
     "end_time": "2023-12-20T19:49:26.721048700Z",
     "start_time": "2023-12-20T19:49:26.709877200Z"
    }
   },
   "id": "7e4203e15f19427"
  },
  {
   "cell_type": "code",
   "execution_count": 133,
   "outputs": [
    {
     "name": "stdout",
     "output_type": "stream",
     "text": [
      "Tests passed\n"
     ]
    }
   ],
   "source": [
    "# тестирование работает только для функций, имеющих 1 аргумент\n",
    "def run_test(func):\n",
    "    try:\n",
    "        for _ in range(1000):\n",
    "            n = np.random.randint(-100, 100)\n",
    "    \n",
    "            if n < 0 or not isinstance(n, int):\n",
    "                try:\n",
    "                    assert not isinstance(func(n), ValueError)\n",
    "                except ValueError:\n",
    "                    pass\n",
    "            else:\n",
    "                assert func(n) == math.factorial(n)\n",
    "    except Exception as e:\n",
    "        print(f\"Error in test process: {e}\")\n",
    "        return \n",
    "        \n",
    "    print(\"Tests passed\")\n",
    "\n",
    "run_test(factorial)"
   ],
   "metadata": {
    "collapsed": false,
    "ExecuteTime": {
     "end_time": "2023-12-20T20:01:37.455835500Z",
     "start_time": "2023-12-20T20:01:37.402266700Z"
    }
   },
   "id": "396d7285e3d8edbb"
  },
  {
   "cell_type": "code",
   "execution_count": null,
   "outputs": [],
   "source": [],
   "metadata": {
    "collapsed": false,
    "ExecuteTime": {
     "start_time": "2023-12-20T19:43:17.169900300Z"
    }
   },
   "id": "389188bdd20d78e3"
  }
 ],
 "metadata": {
  "kernelspec": {
   "display_name": "Python 3",
   "language": "python",
   "name": "python3"
  },
  "language_info": {
   "codemirror_mode": {
    "name": "ipython",
    "version": 2
   },
   "file_extension": ".py",
   "mimetype": "text/x-python",
   "name": "python",
   "nbconvert_exporter": "python",
   "pygments_lexer": "ipython2",
   "version": "2.7.6"
  }
 },
 "nbformat": 4,
 "nbformat_minor": 5
}
