{
 "cells": [
  {
   "cell_type": "code",
   "execution_count": 99,
   "outputs": [],
   "source": [
    "from faker import Faker\n",
    "import random\n",
    "import enum"
   ],
   "metadata": {
    "collapsed": false,
    "ExecuteTime": {
     "end_time": "2023-12-25T20:35:27.836573300Z",
     "start_time": "2023-12-25T20:35:27.794568600Z"
    }
   },
   "id": "10df74db7059a8d2"
  },
  {
   "cell_type": "code",
   "execution_count": 100,
   "outputs": [],
   "source": [
    "faker = Faker(\"ru-RU\")"
   ],
   "metadata": {
    "collapsed": false,
    "ExecuteTime": {
     "end_time": "2023-12-25T20:35:29.034093700Z",
     "start_time": "2023-12-25T20:35:28.871729300Z"
    }
   },
   "id": "59e1466a487a69e2"
  },
  {
   "cell_type": "code",
   "execution_count": 200,
   "id": "initial_id",
   "metadata": {
    "collapsed": true,
    "ExecuteTime": {
     "end_time": "2023-12-25T21:01:28.832518700Z",
     "start_time": "2023-12-25T21:01:28.783515400Z"
    }
   },
   "outputs": [],
   "source": [
    "class Singleton:\n",
    "    def __new__(cls, *args, **kwargs):\n",
    "        if not hasattr(cls, 'instance'):\n",
    "            cls.instance = super(Singleton, cls).__new__(cls)\n",
    "            \n",
    "        return cls.instance\n",
    "\n",
    "    \n",
    "class OrderStates(enum.Enum):\n",
    "    accepted = \"ORDER_ACCEPTED\"\n",
    "    sent = \"ORDER_SENT\"\n",
    "    received = \"ORDER_RECEIVED\"\n",
    "    \n",
    "\n",
    "class Observer:\n",
    "    def __init__(self, name):\n",
    "        self.name = name\n",
    "        self.state = None\n",
    "        \n",
    "    def update_state(self, new_state: OrderStates):\n",
    "        self.state = new_state\n",
    "        print(\"[Observer] Got new state:\", self.state)"
   ]
  },
  {
   "cell_type": "code",
   "execution_count": 232,
   "outputs": [],
   "source": [
    "class DeliveryStrategy:\n",
    "    def __init__(self, strategy):\n",
    "        valid_strategies = [PostDeliveryStrategy, CourierDeliveryStrategy, MyselfDeliveryStrategy]\n",
    "\n",
    "        if strategy not in valid_strategies:\n",
    "            raise Exception('Выбрана несуществующая стратегия доставки.')\n",
    "        \n",
    "        self.strategy = strategy\n",
    "        \n",
    "    \n",
    "    def start(self, address: str):\n",
    "        self.strategy.start(self, address)\n",
    "\n",
    "\n",
    "class PostDeliveryStrategy(DeliveryStrategy):\n",
    "    def start(self, address: str):\n",
    "        print(f\"Доставка на адрес {address}: Ближайшее почтовое отделение\")\n",
    "\n",
    "\n",
    "class CourierDeliveryStrategy(DeliveryStrategy):\n",
    "    def start(self, address: str):\n",
    "        print(f\"Доставка на адрес {address}: Курьер\")\n",
    "\n",
    "\n",
    "class MyselfDeliveryStrategy(DeliveryStrategy):\n",
    "    def start(self, address: str):\n",
    "        print(\"Самовывоз\")"
   ],
   "metadata": {
    "collapsed": false,
    "ExecuteTime": {
     "end_time": "2023-12-25T21:41:53.442164600Z",
     "start_time": "2023-12-25T21:41:53.404149500Z"
    }
   },
   "id": "70603f9e60d4c0e6"
  },
  {
   "cell_type": "code",
   "execution_count": 233,
   "outputs": [],
   "source": [
    "class Admin:\n",
    "    def __init__(self, name: str, surname: str, phone: str):\n",
    "        self.name = name\n",
    "        self.surname = surname\n",
    "        self.phone = phone\n",
    "        \n",
    "    def __repr__(self):\n",
    "        return self.name\n",
    "    \n",
    "    def __str__(self):\n",
    "        return self.name\n",
    "    \n",
    "\n",
    "class Order:\n",
    "    def __init__(self, user: str, address: str, phone: str, product: any, delivery: DeliveryStrategy):\n",
    "        self.id = random.randint(1, 1000000)\n",
    "        self.user = user\n",
    "        self.delivery = delivery\n",
    "        self.phone = phone\n",
    "        self.product = product\n",
    "        self.state = OrderStates.accepted\n",
    "        self.closed = False\n",
    "        self.observers = [Observer(\"test\")]\n",
    "        \n",
    "    def change_state(self, state: OrderStates):\n",
    "        if self.closed:\n",
    "            return\n",
    "        self.state = state\n",
    "        self.__notificate(state)\n",
    "        \n",
    "    def close(self):\n",
    "        self.closed = True\n",
    "        \n",
    "    def __notificate(self, state: OrderStates):\n",
    "        if self.closed:\n",
    "            return\n",
    "        \n",
    "        for observer in self.observers:\n",
    "            if hasattr(observer, 'update_state'):\n",
    "                observer.update_state(state)\n",
    "                \n",
    "    def __str__(self):\n",
    "        return f\"{str(self.id)} ({self.state})\"\n",
    "    \n",
    "    def __repr__(self):\n",
    "        return f\"{str(self.id)} ({self.state})\"\n",
    "        \n",
    "        \n",
    "\n",
    "class Shop(Singleton): \n",
    "    def __init__(self, name: str, admin: Admin):\n",
    "        self.name = name\n",
    "        self.admin = admin\n",
    "        self.orders = []\n",
    "        \n",
    "    def add_order(self, order: Order):\n",
    "        if order.closed:\n",
    "            return\n",
    "\n",
    "        self.orders.append(order)\n",
    "        \n",
    "    def change_order_state(self, order_id: int, state: OrderStates):\n",
    "        for order in self.orders:\n",
    "            if order.id == order_id:\n",
    "                order.change_state(state)"
   ],
   "metadata": {
    "collapsed": false,
    "ExecuteTime": {
     "end_time": "2023-12-25T21:41:53.838644100Z",
     "start_time": "2023-12-25T21:41:53.812631600Z"
    }
   },
   "id": "caae77ced0dcb326"
  },
  {
   "cell_type": "code",
   "execution_count": 234,
   "outputs": [],
   "source": [
    "shop = Shop(\"AllWhatYouNeed\", Admin(\"John\", \"Doyle\", \"7 999 545 99 78\"))"
   ],
   "metadata": {
    "collapsed": false,
    "ExecuteTime": {
     "end_time": "2023-12-25T21:41:54.214271200Z",
     "start_time": "2023-12-25T21:41:54.200306700Z"
    }
   },
   "id": "c0970c7ace456ec3"
  },
  {
   "cell_type": "code",
   "execution_count": 235,
   "outputs": [],
   "source": [
    "class Book:\n",
    "    def __init__(self, name: str, author: str):\n",
    "        self.name = name\n",
    "        self.author = author\n",
    "        \n",
    "    def __str__(self):\n",
    "        return f'{self.name} ({self.author})'\n",
    "    \n",
    "    def __repr__(self):\n",
    "        return f'{self.name} ({self.author})'\n",
    "        \n",
    "    \n",
    "class Electronic:\n",
    "    def __init__(self, device: str, name: str, model: str):\n",
    "        self.device = device\n",
    "        self.name = name\n",
    "        self.model = model\n",
    "\n",
    "    def __str__(self):\n",
    "        return f'{self.name} ({self.model})'\n",
    "\n",
    "    def __repr__(self):\n",
    "        return f'{self.name} ({self.model})'\n",
    "    \n",
    "    \n",
    "\n",
    "class Clothes:\n",
    "    def __init__(self, name: str, brand: str):\n",
    "        self.name = name\n",
    "        self.brand = brand\n",
    "\n",
    "    def __str__(self):\n",
    "        return f'{self.brand} - {self.name}'\n",
    "\n",
    "    def __repr__(self):\n",
    "        return f'{self.brand} - {self.name}'\n",
    "    \n",
    "\n",
    "class Product:\n",
    "    def __init__(self, product_type: str, args: dict):\n",
    "        self.product_type = product_type\n",
    "        self.args = args\n",
    "        self.products_dict = {\n",
    "            'book': Book,\n",
    "            'electronic': Electronic,\n",
    "            'clothes': Clothes\n",
    "        }\n",
    "        \n",
    "    def get_product(self):\n",
    "        if self.product_type.lower() not in self.products_dict:\n",
    "            raise Exception(\"Ваш тип продукта является неизвестным.\")\n",
    "        \n",
    "        for key, cls in self.products_dict.items():\n",
    "            if key == self.product_type:\n",
    "                try:\n",
    "                    return cls(**self.args)\n",
    "                except Exception as e:\n",
    "                    print(\"Ошибка в инициализации объекта продукта:\\n\", e)\n",
    "                    return "
   ],
   "metadata": {
    "collapsed": false,
    "ExecuteTime": {
     "end_time": "2023-12-25T21:41:54.561167800Z",
     "start_time": "2023-12-25T21:41:54.538206800Z"
    }
   },
   "id": "c6e91f696689672e"
  },
  {
   "cell_type": "code",
   "execution_count": 236,
   "outputs": [
    {
     "data": {
      "text/plain": "Gucci - Сумка"
     },
     "execution_count": 236,
     "metadata": {},
     "output_type": "execute_result"
    }
   ],
   "source": [
    "product = Product(\"clothes\", {\"name\": \"Сумка\", \"brand\": \"Gucci\"}).get_product()\n",
    "product"
   ],
   "metadata": {
    "collapsed": false,
    "ExecuteTime": {
     "end_time": "2023-12-25T21:41:54.965279700Z",
     "start_time": "2023-12-25T21:41:54.916733100Z"
    }
   },
   "id": "8019c5bcef587221"
  },
  {
   "cell_type": "code",
   "execution_count": 242,
   "outputs": [],
   "source": [
    "shop.add_order(Order(\"John\", \"Main St.\", \"7 929 559 95 96\", product, DeliveryStrategy(CourierDeliveryStrategy)))"
   ],
   "metadata": {
    "collapsed": false,
    "ExecuteTime": {
     "end_time": "2023-12-25T21:42:22.903678600Z",
     "start_time": "2023-12-25T21:42:22.897257600Z"
    }
   },
   "id": "622efe871efb5857"
  },
  {
   "cell_type": "code",
   "execution_count": 243,
   "outputs": [
    {
     "data": {
      "text/plain": "[437330 (OrderStates.sent), 79623 (OrderStates.accepted)]"
     },
     "execution_count": 243,
     "metadata": {},
     "output_type": "execute_result"
    }
   ],
   "source": [
    "shop.orders"
   ],
   "metadata": {
    "collapsed": false,
    "ExecuteTime": {
     "end_time": "2023-12-25T21:42:24.097416400Z",
     "start_time": "2023-12-25T21:42:23.830235400Z"
    }
   },
   "id": "92dbdadcf550cc8a"
  },
  {
   "cell_type": "code",
   "execution_count": 244,
   "outputs": [
    {
     "name": "stdout",
     "output_type": "stream",
     "text": [
      "[Observer] Got new state: OrderStates.sent\n"
     ]
    }
   ],
   "source": [
    "shop.change_order_state(437330, OrderStates.sent)"
   ],
   "metadata": {
    "collapsed": false,
    "ExecuteTime": {
     "end_time": "2023-12-25T21:42:25.057710300Z",
     "start_time": "2023-12-25T21:42:25.034674300Z"
    }
   },
   "id": "ae4b4240b0e318c4"
  },
  {
   "cell_type": "code",
   "execution_count": 245,
   "outputs": [
    {
     "name": "stdout",
     "output_type": "stream",
     "text": [
      "Доставка на адрес Мой адрес: Курьер\n"
     ]
    }
   ],
   "source": [
    "shop.orders[0].delivery.start(\"Мой адрес\")"
   ],
   "metadata": {
    "collapsed": false,
    "ExecuteTime": {
     "end_time": "2023-12-25T21:42:26.949083100Z",
     "start_time": "2023-12-25T21:42:26.932795Z"
    }
   },
   "id": "54f2fa58d121866d"
  }
 ],
 "metadata": {
  "kernelspec": {
   "display_name": "Python 3",
   "language": "python",
   "name": "python3"
  },
  "language_info": {
   "codemirror_mode": {
    "name": "ipython",
    "version": 2
   },
   "file_extension": ".py",
   "mimetype": "text/x-python",
   "name": "python",
   "nbconvert_exporter": "python",
   "pygments_lexer": "ipython2",
   "version": "2.7.6"
  }
 },
 "nbformat": 4,
 "nbformat_minor": 5
}
